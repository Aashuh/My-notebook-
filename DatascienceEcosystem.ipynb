{
  "metadata": {
    "kernelspec": {
      "name": "python",
      "display_name": "Python (Pyodide)",
      "language": "python"
    },
    "language_info": {
      "codemirror_mode": {
        "name": "python",
        "version": 3
      },
      "file_extension": ".py",
      "mimetype": "text/x-python",
      "name": "python",
      "nbconvert_exporter": "python",
      "pygments_lexer": "ipython3",
      "version": "3.8"
    }
  },
  "nbformat_minor": 5,
  "nbformat": 4,
  "cells": [
    {
      "id": "ca80c8d9-a642-44e2-8fbb-2e8da97519d1",
      "cell_type": "markdown",
      "source": "# Data Science  Tools and Ecosystem ",
      "metadata": {}
    },
    {
      "id": "e5c6dd3d-8589-4060-9b9f-f2a81654bbdb",
      "cell_type": "markdown",
      "source": "In this notebook, Data Science Tools and Ecosystem are summarized.\n",
      "metadata": {}
    },
    {
      "id": "dccbe2a7-a8bd-478c-b95b-9b582c838214",
      "cell_type": "markdown",
      "source": "**Objectives:**\n* List popular languages for Data Science\n* Understand Jupyter Notebook basics\n* Practice markdown cells\n",
      "metadata": {}
    },
    {
      "id": "e44bffce-d6f8-4363-9d52-0e4625f6cacd",
      "cell_type": "markdown",
      "source": "Some of the popular languages that Data Scientists use are:\n\n1. Python\n2. R\n3. SQL\n",
      "metadata": {}
    },
    {
      "id": "dacd7082-f348-4aea-8af4-6b723aac7b46",
      "cell_type": "markdown",
      "source": "Some of the commonly used libraries used by Data Scientists include:\n\n1. Pandas\n2. NumPy\n3. Matplotlib\n4. Scikit-learn\n",
      "metadata": {}
    },
    {
      "id": "71c992e8-6304-4ff4-8080-5ce172a375dc",
      "cell_type": "markdown",
      "source": "| Data Science Tools |\n|--------------------|\n| Jupyter Notebook   |\n| Pandas             |\n| Matplotlib         |\n|visual studio code |\n  |GitHub|\n",
      "metadata": {}
    },
    {
      "id": "72fd91dd-0daa-4b38-9db7-9571939341d7",
      "cell_type": "markdown",
      "source": "### Below are a few examples of evaluating arithmetic expressions in Python\n",
      "metadata": {}
    },
    {
      "id": "03811ad2-44ef-4b52-ab8b-f4b75d04e6d0",
      "cell_type": "code",
      "source": "# This is a simple arithmetic expression to multiply then add integers\n(3*4)+5",
      "metadata": {
        "trusted": true
      },
      "outputs": [
        {
          "execution_count": 1,
          "output_type": "execute_result",
          "data": {
            "text/plain": "17"
          },
          "metadata": {}
        }
      ],
      "execution_count": 1
    },
    {
      "id": "f3e87c67-caec-4f14-8302-07f4d33aaee5",
      "cell_type": "code",
      "source": "# This will convert 200 minutes to hours by dividing by 60\n200 / 60",
      "metadata": {
        "trusted": true
      },
      "outputs": [
        {
          "execution_count": 2,
          "output_type": "execute_result",
          "data": {
            "text/plain": "3.3333333333333335"
          },
          "metadata": {}
        }
      ],
      "execution_count": 2
    },
    {
      "id": "599fac8d-bc5d-45ea-875d-8f7bf4952e21",
      "cell_type": "markdown",
      "source": "## Author\nAsna KT\n",
      "metadata": {}
    },
    {
      "id": "ac1724fa-ae2a-4027-856b-c210d52d622b",
      "cell_type": "code",
      "source": "",
      "metadata": {
        "trusted": true
      },
      "outputs": [],
      "execution_count": null
    }
  ]
}